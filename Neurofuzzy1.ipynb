{
 "cells": [
  {
   "cell_type": "code",
   "execution_count": 3,
   "metadata": {
    "colab": {
     "base_uri": "https://localhost:8080/"
    },
    "id": "gnS7tiHfuz-i",
    "outputId": "454e275c-9739-43ec-9a7d-1f167e2a0f30"
   },
   "outputs": [
    {
     "name": "stdout",
     "output_type": "stream",
     "text": [
      "Collecting adabound\n",
      "  Downloading https://files.pythonhosted.org/packages/cd/44/0c2c414effb3d9750d780b230dbb67ea48ddc5d9a6d7a9b7e6fcc6bdcff9/adabound-0.0.5-py3-none-any.whl\n",
      "Requirement already satisfied: torch>=0.4.0 in /usr/local/lib/python3.6/dist-packages (from adabound) (1.7.0+cu101)\n",
      "Requirement already satisfied: future in /usr/local/lib/python3.6/dist-packages (from torch>=0.4.0->adabound) (0.16.0)\n",
      "Requirement already satisfied: typing-extensions in /usr/local/lib/python3.6/dist-packages (from torch>=0.4.0->adabound) (3.7.4.3)\n",
      "Requirement already satisfied: dataclasses in /usr/local/lib/python3.6/dist-packages (from torch>=0.4.0->adabound) (0.7)\n",
      "Requirement already satisfied: numpy in /usr/local/lib/python3.6/dist-packages (from torch>=0.4.0->adabound) (1.18.5)\n",
      "Installing collected packages: adabound\n",
      "Successfully installed adabound-0.0.5\n"
     ]
    }
   ],
   "source": [
    "import torch\n",
    "import torch.nn as nn\n",
    "import numpy as np\n",
    "import pandas as pd\n",
    "import matplotlib.pyplot as plt\n",
    "import sklearn\n",
    "from sklearn.metrics import mean_squared_error\n",
    "import sklearn.model_selection\n",
    "from torch.utils.data import Dataset\n",
    "from torch.utils.data import DataLoader\n",
    "\n",
    "! pip install adabound\n",
    "from adabound import AdaBound"
   ]
  },
  {
   "cell_type": "code",
   "execution_count": 5,
   "metadata": {
    "id": "LnRB7OiXTiKO"
   },
   "outputs": [],
   "source": [
    "#kwdikas apo github slp\n",
    "class pyData(Dataset):\n",
    "    def __init__(self, X, y, trans=None):\n",
    "        self.data = list(zip(X, y))\n",
    "        self.trans = trans\n",
    "        \n",
    "    def __len__(self):\n",
    "        return len(self.data)\n",
    "    \n",
    "    def __getitem__(self, idx):\n",
    "        if self.trans is not None:\n",
    "            return self.trans(self.data[idx])\n",
    "        else:\n",
    "            return self.data[idx]\n",
    "\n",
    "class ToTensor(object):\n",
    "    def __init__(self):\n",
    "          pass\n",
    "        \n",
    "    def __call__(self, datum):\n",
    "        x, y = datum[0], datum[1]\n",
    "        t = torch.from_numpy(x).type(torch.FloatTensor) \n",
    "        y = torch.from_numpy(y).type(torch.FloatTensor)\n",
    "        return t, y"
   ]
  },
  {
   "cell_type": "code",
   "execution_count": 6,
   "metadata": {
    "id": "tFo8fmkxvPWm"
   },
   "outputs": [],
   "source": [
    "class Feedforward(torch.nn.Module):\n",
    "        def __init__(self, input_size, hidden_size1, output_size):\n",
    "            super(Feedforward, self).__init__()\n",
    "            self.fc1 = nn.Linear(input_size,hidden_size1)\n",
    "            self.relu1 = nn.ReLU() \n",
    "            self.fc2 = nn.Linear(hidden_size1,output_size)\n",
    "            # self.relu2 = nn.ReLU() \n",
    "            # self.fc3 = nn.Linear(hidden_size2,output_size)\n",
    "\n",
    "        def forward(self, x):\n",
    "            out = self.fc1(x)\n",
    "            out = self.relu1(out)\n",
    "            output = self.fc2(out)\n",
    "            # out = self.relu2(out)\n",
    "            # output = self.fc3(out)\n",
    "            return output"
   ]
  },
  {
   "cell_type": "code",
   "execution_count": 7,
   "metadata": {
    "id": "sAiTHrEF6LK5"
   },
   "outputs": [],
   "source": [
    "def train_nn(net,EPOCHS,train_dl,criterion,optimizer):\n",
    "  net.train() # gradients \"on\"\n",
    "  for epoch in range(EPOCHS): # loop through dataset\n",
    "      running_average_loss = 0\n",
    "      for i, data in enumerate(train_dl): # loop thorugh batches\n",
    "          X_batch, y_batch = data # get the input and output\n",
    "          optimizer.zero_grad()\n",
    "          out = net(X_batch) # forward pass\n",
    "          # if epoch % 5 == 0 and i % 50 == 0:\n",
    "          #     print(epoch,i)\n",
    "          #     print(y_batch)\n",
    "          #     print(out)\n",
    "          loss = criterion(out, y_batch) # compute per batch loss \n",
    "          loss.backward() # compurte gradients based on the loss function\n",
    "          optimizer.step() # update weights \n",
    "          \n",
    "      running_average_loss += loss.detach().item()\n",
    "      if epoch % 100 == 0:\n",
    "        print(\"Epoch: {} \\t Batch: {} \\t Loss {}\".format(epoch, i, float(running_average_loss) / (i + 1)))"
   ]
  },
  {
   "cell_type": "code",
   "execution_count": 8,
   "metadata": {
    "id": "DLwO05Qe7hht"
   },
   "outputs": [],
   "source": [
    "data = pd.read_csv('data_NN.csv',delimiter=\";\")\n",
    "data = data.to_numpy()\n",
    "stringer = lambda stringaki: float(stringaki.replace(\",\",\".\"))\n",
    "vfunc = np.vectorize(stringer)\n",
    "data = vfunc(data)\n",
    "x0 = np.array([[-2,0,-1]],dtype = 'float64')\n",
    "indata = np.concatenate((x0,data[0:999]),axis = 0)\n",
    "x1,y1,z1 = np.amin(indata,axis = 0)\n",
    "x2,y2,z2 = np.amin(data,axis = 0)\n",
    "\n",
    "x1 , x2 = min(x1,x2) , min(x1,x2)\n",
    "y1 , y2 = min(y1,y2) , min(y1,y2)\n",
    "z1 , z2 = min(z1,z2) , min(z1,z2)\n",
    "\n",
    "# print(np.amin(indata,axis = 0))\n",
    "# print(np.amin(data,axis = 0))\n",
    "\n",
    "for i in range(indata.shape[0]):\n",
    "    indata[i][0] = indata[i][0] / x1\n",
    "    indata[i][1] = indata[i][1] / y1\n",
    "    indata[i][2] = indata[i][2] / z1\n",
    "    data[i][0] = data[i][0] / x2\n",
    "    data[i][1] = data[i][1] / y2\n",
    "    data[i][2] = data[i][2] / z2\n",
    "\n",
    "# print(np.amin(indata,axis = 0))\n",
    "# print(np.amin(data,axis = 0))\n",
    "\n",
    "\n",
    "all_data = pyData(indata,data,trans=ToTensor())\n",
    "all_dl = DataLoader(all_data, batch_size=1, shuffle=False)"
   ]
  },
  {
   "cell_type": "code",
   "execution_count": 9,
   "metadata": {
    "id": "QHbuKhFi7kxU"
   },
   "outputs": [],
   "source": [
    "BATCH_SZ = 10\n",
    "\n",
    "X_train, X_test, y_train, y_test = sklearn.model_selection.train_test_split(indata, data, test_size = .2,shuffle = False)\n",
    "train_data = pyData(X_train, y_train, trans=ToTensor())\n",
    "test_data  = pyData(X_test, y_test, trans=ToTensor())\n",
    "train_dl = DataLoader(train_data, batch_size=BATCH_SZ, shuffle=False)\n",
    "test_dl = DataLoader(test_data, batch_size=1, shuffle=False)\n"
   ]
  },
  {
   "cell_type": "code",
   "execution_count": 24,
   "metadata": {
    "colab": {
     "base_uri": "https://localhost:8080/",
     "height": 476
    },
    "id": "Lw3-vqdPTIJM",
    "outputId": "b9cb589f-a2b0-4eae-f7b9-48315b9ffee5"
   },
   "outputs": [
    {
     "name": "stderr",
     "output_type": "stream",
     "text": [
      "/usr/local/lib/python3.6/dist-packages/adabound/adabound.py:94: UserWarning: This overload of add_ is deprecated:\n",
      "\tadd_(Number alpha, Tensor other)\n",
      "Consider using one of the following signatures instead:\n",
      "\tadd_(Tensor other, *, Number alpha) (Triggered internally at  /pytorch/torch/csrc/utils/python_arg_parser.cpp:882.)\n",
      "  exp_avg.mul_(beta1).add_(1 - beta1, grad)\n"
     ]
    },
    {
     "name": "stdout",
     "output_type": "stream",
     "text": [
      "Epoch: 0 \t Batch: 79 \t Loss 0.0011415120214223861\n",
      "Epoch: 100 \t Batch: 79 \t Loss 1.588142549735494e-06\n",
      "Epoch: 200 \t Batch: 79 \t Loss 7.758859283057973e-07\n"
     ]
    },
    {
     "ename": "KeyboardInterrupt",
     "evalue": "ignored",
     "output_type": "error",
     "traceback": [
      "\u001b[0;31m---------------------------------------------------------------------------\u001b[0m",
      "\u001b[0;31mKeyboardInterrupt\u001b[0m                         Traceback (most recent call last)",
      "\u001b[0;32m<ipython-input-24-bc885e5d12a3>\u001b[0m in \u001b[0;36m<module>\u001b[0;34m()\u001b[0m\n\u001b[1;32m      5\u001b[0m \u001b[0;31m# net = net.to(device)\u001b[0m\u001b[0;34m\u001b[0m\u001b[0;34m\u001b[0m\u001b[0;34m\u001b[0m\u001b[0m\n\u001b[1;32m      6\u001b[0m \u001b[0;34m\u001b[0m\u001b[0m\n\u001b[0;32m----> 7\u001b[0;31m \u001b[0mtrain_nn\u001b[0m\u001b[0;34m(\u001b[0m\u001b[0mnet\u001b[0m\u001b[0;34m,\u001b[0m\u001b[0mEPOCHS\u001b[0m \u001b[0;34m=\u001b[0m \u001b[0;36m1000\u001b[0m\u001b[0;34m,\u001b[0m\u001b[0mtrain_dl\u001b[0m\u001b[0;34m=\u001b[0m\u001b[0mtrain_dl\u001b[0m\u001b[0;34m,\u001b[0m\u001b[0mcriterion\u001b[0m \u001b[0;34m=\u001b[0m \u001b[0mnn\u001b[0m\u001b[0;34m.\u001b[0m\u001b[0mMSELoss\u001b[0m\u001b[0;34m(\u001b[0m\u001b[0;34m)\u001b[0m\u001b[0;34m,\u001b[0m\u001b[0moptimizer\u001b[0m \u001b[0;34m=\u001b[0m \u001b[0mAdaBound\u001b[0m\u001b[0;34m(\u001b[0m\u001b[0mnet\u001b[0m\u001b[0;34m.\u001b[0m\u001b[0mparameters\u001b[0m\u001b[0;34m(\u001b[0m\u001b[0;34m)\u001b[0m\u001b[0;34m,\u001b[0m \u001b[0mlr\u001b[0m\u001b[0;34m=\u001b[0m\u001b[0;36m0.001\u001b[0m\u001b[0;34m,\u001b[0m \u001b[0mfinal_lr\u001b[0m\u001b[0;34m=\u001b[0m\u001b[0;36m0.1\u001b[0m\u001b[0;34m)\u001b[0m \u001b[0;34m)\u001b[0m\u001b[0;34m\u001b[0m\u001b[0;34m\u001b[0m\u001b[0m\n\u001b[0m",
      "\u001b[0;32m<ipython-input-21-a8383d2e42d6>\u001b[0m in \u001b[0;36mtrain_nn\u001b[0;34m(net, EPOCHS, train_dl, criterion, optimizer)\u001b[0m\n\u001b[1;32m     12\u001b[0m           \u001b[0;31m#     print(out)\u001b[0m\u001b[0;34m\u001b[0m\u001b[0;34m\u001b[0m\u001b[0;34m\u001b[0m\u001b[0m\n\u001b[1;32m     13\u001b[0m           \u001b[0mloss\u001b[0m \u001b[0;34m=\u001b[0m \u001b[0mcriterion\u001b[0m\u001b[0;34m(\u001b[0m\u001b[0mout\u001b[0m\u001b[0;34m,\u001b[0m \u001b[0my_batch\u001b[0m\u001b[0;34m)\u001b[0m \u001b[0;31m# compute per batch loss\u001b[0m\u001b[0;34m\u001b[0m\u001b[0;34m\u001b[0m\u001b[0m\n\u001b[0;32m---> 14\u001b[0;31m           \u001b[0mloss\u001b[0m\u001b[0;34m.\u001b[0m\u001b[0mbackward\u001b[0m\u001b[0;34m(\u001b[0m\u001b[0;34m)\u001b[0m \u001b[0;31m# compurte gradients based on the loss function\u001b[0m\u001b[0;34m\u001b[0m\u001b[0;34m\u001b[0m\u001b[0m\n\u001b[0m\u001b[1;32m     15\u001b[0m           \u001b[0moptimizer\u001b[0m\u001b[0;34m.\u001b[0m\u001b[0mstep\u001b[0m\u001b[0;34m(\u001b[0m\u001b[0;34m)\u001b[0m \u001b[0;31m# update weights\u001b[0m\u001b[0;34m\u001b[0m\u001b[0;34m\u001b[0m\u001b[0m\n\u001b[1;32m     16\u001b[0m \u001b[0;34m\u001b[0m\u001b[0m\n",
      "\u001b[0;32m/usr/local/lib/python3.6/dist-packages/torch/tensor.py\u001b[0m in \u001b[0;36mbackward\u001b[0;34m(self, gradient, retain_graph, create_graph)\u001b[0m\n\u001b[1;32m    219\u001b[0m                 \u001b[0mretain_graph\u001b[0m\u001b[0;34m=\u001b[0m\u001b[0mretain_graph\u001b[0m\u001b[0;34m,\u001b[0m\u001b[0;34m\u001b[0m\u001b[0;34m\u001b[0m\u001b[0m\n\u001b[1;32m    220\u001b[0m                 create_graph=create_graph)\n\u001b[0;32m--> 221\u001b[0;31m         \u001b[0mtorch\u001b[0m\u001b[0;34m.\u001b[0m\u001b[0mautograd\u001b[0m\u001b[0;34m.\u001b[0m\u001b[0mbackward\u001b[0m\u001b[0;34m(\u001b[0m\u001b[0mself\u001b[0m\u001b[0;34m,\u001b[0m \u001b[0mgradient\u001b[0m\u001b[0;34m,\u001b[0m \u001b[0mretain_graph\u001b[0m\u001b[0;34m,\u001b[0m \u001b[0mcreate_graph\u001b[0m\u001b[0;34m)\u001b[0m\u001b[0;34m\u001b[0m\u001b[0;34m\u001b[0m\u001b[0m\n\u001b[0m\u001b[1;32m    222\u001b[0m \u001b[0;34m\u001b[0m\u001b[0m\n\u001b[1;32m    223\u001b[0m     \u001b[0;32mdef\u001b[0m \u001b[0mregister_hook\u001b[0m\u001b[0;34m(\u001b[0m\u001b[0mself\u001b[0m\u001b[0;34m,\u001b[0m \u001b[0mhook\u001b[0m\u001b[0;34m)\u001b[0m\u001b[0;34m:\u001b[0m\u001b[0;34m\u001b[0m\u001b[0;34m\u001b[0m\u001b[0m\n",
      "\u001b[0;32m/usr/local/lib/python3.6/dist-packages/torch/autograd/__init__.py\u001b[0m in \u001b[0;36mbackward\u001b[0;34m(tensors, grad_tensors, retain_graph, create_graph, grad_variables)\u001b[0m\n\u001b[1;32m    130\u001b[0m     Variable._execution_engine.run_backward(\n\u001b[1;32m    131\u001b[0m         \u001b[0mtensors\u001b[0m\u001b[0;34m,\u001b[0m \u001b[0mgrad_tensors_\u001b[0m\u001b[0;34m,\u001b[0m \u001b[0mretain_graph\u001b[0m\u001b[0;34m,\u001b[0m \u001b[0mcreate_graph\u001b[0m\u001b[0;34m,\u001b[0m\u001b[0;34m\u001b[0m\u001b[0;34m\u001b[0m\u001b[0m\n\u001b[0;32m--> 132\u001b[0;31m         allow_unreachable=True)  # allow_unreachable flag\n\u001b[0m\u001b[1;32m    133\u001b[0m \u001b[0;34m\u001b[0m\u001b[0m\n\u001b[1;32m    134\u001b[0m \u001b[0;34m\u001b[0m\u001b[0m\n",
      "\u001b[0;31mKeyboardInterrupt\u001b[0m: "
     ]
    }
   ],
   "source": [
    "net = Feedforward(3,32,3)\n",
    "# net = Feedforward(3,32,32,3)\n",
    "\n",
    "# device = torch.device(\"cuda:0\" if torch.cuda.is_available() else \"cpu\")\n",
    "# net = net.to(device)\n",
    "\n",
    "train_nn(net,EPOCHS = 1000,train_dl=train_dl,criterion = nn.MSELoss(),optimizer = AdaBound(net.parameters(), lr=0.001, final_lr=0.1) )"
   ]
  },
  {
   "cell_type": "code",
   "execution_count": 25,
   "metadata": {
    "colab": {
     "base_uri": "https://localhost:8080/",
     "height": 282
    },
    "id": "vEO_H1ppdUez",
    "outputId": "15dcb6c6-ba69-427d-db96-406b1745fcaa"
   },
   "outputs": [
    {
     "name": "stdout",
     "output_type": "stream",
     "text": [
      "Loss = 0.0005269056877954079\n",
      "Loss = 0.001851583172188986\n"
     ]
    },
    {
     "data": {
      "image/png": "[encoded data removed]",
      "text/plain": [
       "<Figure size 432x288 with 1 Axes>"
      ]
     },
     "metadata": {
      "needs_background": "light",
      "tags": []
     },
     "output_type": "display_data"
    }
   ],
   "source": [
    "start = torch.from_numpy(np.array([-1.9/x1,0,-0.9/z1],dtype = \"float32\"))\n",
    "# print(net(torch.from_numpy(np.array([-1.9,0,-0.9],dtype = \"float32\"))))\n",
    "x ,y ,z = [-2] , [0], [-1]\n",
    "for i in range(200):\n",
    "    next = net(start)\n",
    "    start = next\n",
    "    x.append(next[0]*x2)\n",
    "    y.append(next[1]*y2)\n",
    "    z.append(next[2]*z2)\n",
    "\n",
    "ax = plt.axes(projection='3d')\n",
    "ax.plot3D(x, y, z, marker='x', markersize = 1)\n",
    "plt.savefig(\"3.jpg\")\n",
    "\n",
    "x ,y ,z = [] , [], []\n",
    "xold ,yold ,zold = [] , [], []\n",
    "\n",
    "loss = 0\n",
    "for i, curdata in enumerate(test_dl): # loop thorugh batches\n",
    "    X_batch, y_batch = curdata    \n",
    "    next = net(X_batch)\n",
    "    loss += mean_squared_error(y_batch.detach().numpy(),next.detach().numpy())\n",
    "\n",
    "    x.append(next[0][0]*x2)\n",
    "    y.append(next[0][1]*y2)\n",
    "    z.append(next[0][2]*z2)\n",
    "    xold.append(y_batch[0][0]*x2)\n",
    "    yold.append(y_batch[0][1]*y2)\n",
    "    zold.append(y_batch[0][2]*z2)\n",
    "\n",
    "print(\"Loss =\",loss/i)\n",
    "# Data for a three-dimensional line\n",
    "axs = plt.axes(projection='3d')\n",
    "axs.plot3D(x, y, z, 'red')\n",
    "axs.plot3D(xold, yold, zold, 'green')\n",
    "plt.savefig(\"2.jpg\")\n",
    "\n",
    "x ,y ,z = [] , [], []\n",
    "xold ,yold ,zold = [] , [], []\n",
    "\n",
    "for i, curdata in enumerate(all_dl): # loop thorugh batches\n",
    "    X_batch, y_batch = curdata    \n",
    "    next = net(X_batch)\n",
    "    loss += mean_squared_error(y_batch.detach().numpy(),next.detach().numpy())\n",
    "\n",
    "    x.append(next[0][0]*x2)\n",
    "    y.append(next[0][1]*y2)\n",
    "    z.append(next[0][2]*z2)\n",
    "    xold.append(y_batch[0][0]*x2)\n",
    "    yold.append(y_batch[0][1]*y2)\n",
    "    zold.append(y_batch[0][2]*z2)\n",
    "\n",
    "\n",
    "print(\"Loss =\",loss/i)\n",
    "# Data for a three-dimensional line\n",
    "ax = plt.axes(projection='3d')\n",
    "\n",
    "ax.plot3D(x, y, z, 'red')\n",
    "ax.plot3D(xold, yold, zold, 'blue')\n",
    "plt.savefig(\"3.jpg\")"
   ]
  },
  {
   "cell_type": "code",
   "execution_count": null,
   "metadata": {
    "id": "6R5-THKb3tCT"
   },
   "outputs": [],
   "source": [
    "for nodes in [8]:\n",
    "    for epoch in [4000]:\n",
    "        for batch in [10]:\n",
    "            lr = .00001\n",
    "            final_lr = .01\n",
    "    # for lr in [.1,.01,.001,.0001]:\n",
    "    #     for final_lr in [.1,.01,.001]:\n",
    "    #         epoch = 200\n",
    "    #         batch = 20\n",
    "            print(\"Nodes, epoch, batch =\",nodes,epoch,batch)\n",
    "            X_train, X_test, y_train, y_test = sklearn.model_selection.train_test_split(indata, data, test_size = .2,shuffle = False)\n",
    "            train_data = pyData(X_train, y_train, trans=ToTensor())\n",
    "            test_data  = pyData(X_test, y_test, trans=ToTensor())\n",
    "            train_dl = DataLoader(train_data, batch_size=batch, shuffle=True)\n",
    "            test_dl = DataLoader(test_data, batch_size=1, shuffle=False)\n",
    "\n",
    "            net = Feedforward(3,nodes,3)\n",
    "            # net = Feedforward(3,32,32,3)\n",
    "\n",
    "            # device = torch.device(\"cuda:0\" if torch.cuda.is_available() else \"cpu\")\n",
    "            # net = net.to(device)\n",
    "\n",
    "            train_nn(net,EPOCHS = epoch,train_dl=all_dl,criterion = nn.MSELoss(),optimizer = AdaBound(net.parameters(), lr = lr, final_lr = final_lr) )\n",
    "\n",
    "            start = torch.from_numpy(np.array([-1.9/x1,0,-0.9/z1],dtype = \"float32\"))\n",
    "            # print(net(torch.from_numpy(np.array([-1.9,0,-0.9],dtype = \"float32\"))))\n",
    "            x ,y ,z = [-1.9] , [0], [-0.9]\n",
    "            xold ,yold ,zold = [-2] , [0], [-1]\n",
    "            for i, curdata in enumerate(all_dl): # loop thorugh batches\n",
    "                _,y_batch = curdata\n",
    "                if i == 1000:\n",
    "                    break\n",
    "                \n",
    "                next = net(start)\n",
    "                start = next\n",
    "                xold.append(y_batch[0][0]*x2)\n",
    "                yold.append(y_batch[0][1]*y2)\n",
    "                zold.append(y_batch[0][2]*z2)\n",
    "                x.append(next[0]*x2)\n",
    "                y.append(next[1]*y2)\n",
    "                z.append(next[2]*z2)\n",
    "\n",
    "            ax = plt.axes(projection='3d')\n",
    "            ax.plot3D(x, y, z, 'red')\n",
    "            ax.plot3D(xold, yold, zold, 'blue')\n",
    "            plt.savefig(\"1/nodes_\" + str(nodes) +\"_epoch_\" + str(epoch) + \"_batch_\" + str(batch) + \"_1.jpg\")\n",
    "\n",
    "            x ,y ,z = [] , [], []\n",
    "            xold ,yold ,zold = [] , [], []\n",
    "\n",
    "            loss = 0\n",
    "            for i, curdata in enumerate(test_dl): # loop thorugh batches\n",
    "                X_batch, y_batch = curdata    \n",
    "                next = net(X_batch)\n",
    "                loss += mean_squared_error(y_batch.detach().numpy(),next.detach().numpy())\n",
    "\n",
    "                x.append(next[0][0]*x2)\n",
    "                y.append(next[0][1]*y2)\n",
    "                z.append(next[0][2]*z2)\n",
    "                xold.append(y_batch[0][0]*x2)\n",
    "                yold.append(y_batch[0][1]*y2)\n",
    "                zold.append(y_batch[0][2]*z2)\n",
    "\n",
    "            print(\"Loss =\",loss/i)\n",
    "            # Data for a three-dimensional line\n",
    "            axs = plt.axes(projection='3d')\n",
    "            axs.plot3D(x, y, z, 'red')\n",
    "            axs.plot3D(xold, yold, zold, 'green')\n",
    "            plt.savefig(\"2/epoch_\" + str(epoch) + \"_batch_\" + str(batch) + \"_2.jpg\")\n",
    "\n",
    "            x ,y ,z = [] , [], []\n",
    "            xold ,yold ,zold = [] , [], []\n",
    "\n",
    "            for i, curdata in enumerate(all_dl): # loop thorugh batches\n",
    "                X_batch, y_batch = curdata    \n",
    "                next = net(X_batch)\n",
    "                loss += mean_squared_error(y_batch.detach().numpy(),next.detach().numpy())\n",
    "\n",
    "                x.append(next[0][0]*x2)\n",
    "                y.append(next[0][1]*y2)\n",
    "                z.append(next[0][2]*z2)\n",
    "                xold.append(y_batch[0][0]*x2)\n",
    "                yold.append(y_batch[0][1]*y2)\n",
    "                zold.append(y_batch[0][2]*z2)\n",
    "\n",
    "\n",
    "            print(\"Loss =\",loss/i)\n",
    "            # Data for a three-dimensional line\n",
    "            ax = plt.axes(projection='3d')\n",
    "\n",
    "            ax.plot3D(x, y, z, 'red')\n",
    "            ax.plot3D(xold, yold, zold, 'blue')\n",
    "            plt.savefig(\"3/epoch_\" + str(epoch) + \"_batch_\" + str(batch) + \"_3.jpg\")\n"
   ]
  },
  {
   "cell_type": "code",
   "execution_count": null,
   "metadata": {
    "id": "e6IEaDkgSe6G"
   },
   "outputs": [],
   "source": [
    "!rm -rf 1\n",
    "!rm -rf 2\n",
    "!rm -rf 3\n",
    "!mkdir 1\n",
    "!mkdir 2\n",
    "!mkdir 3\n"
   ]
  },
  {
   "cell_type": "code",
   "execution_count": null,
   "metadata": {
    "id": "ikYfSfVur3Se"
   },
   "outputs": [],
   "source": [
    "from google.colab import files\n",
    "!zip -r 1.zip 1\n",
    "files.download('1.zip')\n",
    "# !zip -r 2.zip 2\n",
    "# files.download('2.zip')\n",
    "# !zip -r 3.zip 3\n",
    "# files.download('3.zip')\n",
    "\n",
    "# files.download('2')\n",
    "# files.download('3') "
   ]
  },
  {
   "cell_type": "code",
   "execution_count": 33,
   "metadata": {
    "id": "sO9gtLZatG95"
   },
   "outputs": [],
   "source": [
    "torch.save(net, \"nodes8epoch4000batch10 (1).txt\")"
   ]
  },
  {
   "cell_type": "code",
   "execution_count": 12,
   "metadata": {
    "colab": {
     "base_uri": "https://localhost:8080/"
    },
    "id": "g9MIsXo8Va_m",
    "outputId": "466a4f11-f276-4808-aa81-bd0e45e9c325"
   },
   "outputs": [
    {
     "name": "stdout",
     "output_type": "stream",
     "text": [
      "tensor([0.1814, 0.0700, 0.1213], grad_fn=<AddBackward0>)\n"
     ]
    }
   ],
   "source": [
    "# model = torch.load(\"nodes8epoch4000batch10.txt\")\n",
    "# print(net(torch.from_numpy(np.array([-1.9,0,-0.9],dtype = \"float32\"))))\n",
    "# print(model(torch.from_numpy(np.array([-1.9,0,-0.9],dtype = \"float32\"))))\n",
    "model = torch.load(\"nodes8epoch4000batch10 (1).txt\")\n",
    "print(model(torch.from_numpy(np.array([-1.9,0,-0.9],dtype = \"float32\"))))"
   ]
  },
  {
   "cell_type": "code",
   "execution_count": 35,
   "metadata": {
    "colab": {
     "base_uri": "https://localhost:8080/",
     "height": 248
    },
    "id": "s0gGcofYs_fv",
    "outputId": "bceba3f0-33b8-49f2-ef4c-353d27ccf53a"
   },
   "outputs": [
    {
     "data": {
      "image/png": "[encoded data removed]",
      "text/plain": [
       "<Figure size 432x288 with 1 Axes>"
      ]
     },
     "metadata": {
      "needs_background": "light",
      "tags": []
     },
     "output_type": "display_data"
    }
   ],
   "source": [
    "            start = torch.from_numpy(np.array([-1.9/x1,0,-0.9/z1],dtype = \"float32\"))\n",
    "            # print(net(torch.from_numpy(np.array([-1.9,0,-0.9],dtype = \"float32\"))))\n",
    "            x ,y ,z = [-1.9] , [0], [-0.9]\n",
    "            xold ,yold ,zold = [-2] , [0], [-1]\n",
    "            for i, curdata in enumerate(all_dl): # loop thorugh batches\n",
    "                _,y_batch = curdata\n",
    "                # print(i)\n",
    "                if i > 200:\n",
    "                    break\n",
    "                next = model(start)\n",
    "                start = next\n",
    "                xold.append(y_batch[0][0]*x2)\n",
    "                yold.append(y_batch[0][1]*y2)\n",
    "                zold.append(y_batch[0][2]*z2)\n",
    "                x.append(next[0]*x2)\n",
    "                y.append(next[1]*y2)\n",
    "                z.append(next[2]*z2)\n",
    "\n",
    "            ax = plt.axes(projection='3d')\n",
    "            ax.plot3D(x, y, z, 'red')\n",
    "            # ax.plot3D(xold, yold, zold, 'blue')\n",
    "            ax.legend([\"Approximation\",\"Real data\"],loc = 'lower right')\n",
    "            plt.savefig(\"Steps\" + str(1000) + \".jpg\")\n"
   ]
  },
  {
   "cell_type": "code",
   "execution_count": null,
   "metadata": {
    "id": "AJZslAgNcfrR"
   },
   "outputs": [],
   "source": [
    "\n",
    "            # plt.savefig(\"1/nodes_\" + str(nodes) +\"_epoch_\" + str(epoch) + \"_batch_\" + str(batch) + \"_1.jpg\")\n",
    "\n",
    "            x ,y ,z = [] , [], []\n",
    "            xold ,yold ,zold = [] , [], []\n",
    "\n",
    "            loss = 0\n",
    "            for i, curdata in enumerate(test_dl): # loop thorugh batches\n",
    "                X_batch, y_batch = curdata    \n",
    "                next = model(X_batch)\n",
    "                loss += mean_squared_error(y_batch.detach().numpy(),next.detach().numpy())\n",
    "\n",
    "                x.append(next[0][0]*x2)\n",
    "                y.append(next[0][1]*y2)\n",
    "                z.append(next[0][2]*z2)\n",
    "                xold.append(y_batch[0][0]*x2)\n",
    "                yold.append(y_batch[0][1]*y2)\n",
    "                zold.append(y_batch[0][2]*z2)\n",
    "\n",
    "            print(\"Loss =\",loss/i)\n",
    "            # Data for a three-dimensional line\n",
    "            axs = plt.axes(projection='3d')\n",
    "            axs.plot3D(x, y, z, 'red')\n",
    "            axs.plot3D(xold, yold, zold, 'green')\n",
    "            # plt.savefig(\"2/epoch_\" + str(epoch) + \"_batch_\" + str(batch) + \"_2.jpg\")\n",
    "\n",
    "            x ,y ,z = [] , [], []\n",
    "            xold ,yold ,zold = [] , [], []\n",
    "\n",
    "            for i, curdata in enumerate(all_dl): # loop thorugh batches\n",
    "                X_batch, y_batch = curdata    \n",
    "                next = model(X_batch)\n",
    "                loss += mean_squared_error(y_batch.detach().numpy(),next.detach().numpy())\n",
    "\n",
    "                x.append(next[0][0]*x2)\n",
    "                y.append(next[0][1]*y2)\n",
    "                z.append(next[0][2]*z2)\n",
    "                xold.append(y_batch[0][0]*x2)\n",
    "                yold.append(y_batch[0][1]*y2)\n",
    "                zold.append(y_batch[0][2]*z2)\n",
    "\n",
    "\n",
    "            print(\"Loss =\",loss/i)\n",
    "            # Data for a three-dimensional line\n",
    "            ax = plt.axes(projection='3d')\n",
    "\n",
    "            ax.plot3D(x, y, z, 'red')\n",
    "            ax.plot3D(xold, yold, zold, 'blue')\n",
    "            # plt.savefig(\"3/epoch_\" + str(epoch) + \"_batch_\" + str(batch) + \"_3.jpg\")"
   ]
  },
  {
   "cell_type": "code",
   "execution_count": null,
   "metadata": {
    "id": "q3WI6vYDLZ18"
   },
   "outputs": [],
   "source": [
    "def plotter(net,indata,outdata,iteration,x2,y2,z2):\n",
    "            x ,y ,z = [] , [], []\n",
    "            xold ,yold ,zold = [] , [], []\n",
    "\n",
    "            for i in range(len(indata)): \n",
    "                temp = np.array([indata[i][0],indata[i][1],indata[i][2]],dtype = \"float32\")\n",
    "                X_batch = torch.from_numpy(temp)\n",
    "                next = model(X_batch)\n",
    "                # print(next)\n",
    "                # loss += mean_squared_error(y_batch.detach().numpy(),next.detach().numpy())\n",
    "\n",
    "                x.append(next[0]*x2)\n",
    "                y.append(next[1]*y2)\n",
    "                z.append(next[2]*z2)\n",
    "                xold.append(outdata[i][0]*x2)\n",
    "                yold.append(outdata[i][1]*y2)\n",
    "                zold.append(outdata[i][2]*z2)\n",
    "\n",
    "            ax = plt.axes(projection='3d')\n",
    "\n",
    "            ax.plot3D(x, y, z, 'red')\n",
    "            ax.plot3D(xold, yold, zold, 'green')\n",
    "            ax.legend([\"Approximation\",\"Input data\"],loc = 'lower right')\n",
    "            plt.title(\"200 steps Approximation\")\n",
    "            plt.savefig(\"Iteration\" + str (iteration) + \".jpg\")"
   ]
  },
  {
   "cell_type": "code",
   "execution_count": null,
   "metadata": {
    "id": "Od8gMy2yOZV_"
   },
   "outputs": [],
   "source": [
    "plotter(model,indata[0:200],data[0:200],1,x2,y2,z2)\n",
    "plotter(model,indata[200:400],data[200:400],2,x2,y2,z2)\n",
    "plotter(model,indata[400:600],data[400:600],3,x2,y2,z2)\n",
    "plotter(model,indata[600:800],data[600:800],4,x2,y2,z2)\n",
    "plotter(model,indata[800:],data[800:],5,x2,y2,z2)"
   ]
  },
  {
   "cell_type": "code",
   "execution_count": null,
   "metadata": {
    "id": "nUNgPBnROglk"
   },
   "outputs": [],
   "source": [
    "def MSE(net,indata,outdata,x2,y2,z2):\n",
    "    loss = 0    \n",
    "    for i in range(len(indata)): \n",
    "        temp = np.array([indata[i][0],indata[i][1],indata[i][2]],dtype = \"float32\")\n",
    "        X_batch = torch.from_numpy(temp)\n",
    "        next = model(X_batch)\n",
    "        next = np.array([next[0]*x2,next[1]*y2,next[2]*z2])\n",
    "        tempdata = np.array([indata[i][0]*x2,indata[i][1]*y2,indata[i][2]*z2])\n",
    "        loss += mean_squared_error(next,tempdata)\n",
    "\n",
    "    print(\"MSE loss =\",loss/len(indata))\n",
    "        # print(next)\n",
    "        # loss += mean_squared_error(y_batch.detach().numpy(),next.detach().numpy())\n",
    "\n",
    "        # x.append(next[0]*x2)\n",
    "        # y.append(next[1]*y2)\n",
    "        # z.append(next[2]*z2)\n",
    "        # xold.append(outdata[i][0]*x2)\n",
    "        # yold.append(outdata[i][1]*y2)\n",
    "        # zold.append(outdata[i][2]*z2)"
   ]
  },
  {
   "cell_type": "code",
   "execution_count": null,
   "metadata": {
    "id": "OXbC_ib0SlI3"
   },
   "outputs": [],
   "source": [
    "MSE(model,indata,data,x2,y2,z2)"
   ]
  },
  {
   "cell_type": "code",
   "execution_count": null,
   "metadata": {
    "id": "RGgL4oaXSqPH"
   },
   "outputs": [],
   "source": [
    "def SE(net,indata,outdata,x2,y2,z2):\n",
    "    loss = []   \n",
    "    for i in range(len(indata)): \n",
    "        temp = np.array([indata[i][0],indata[i][1],indata[i][2]],dtype = \"float32\")\n",
    "        X_batch = torch.from_numpy(temp)\n",
    "        next = model(X_batch)\n",
    "        next = np.array([next[0]*x2,next[1]*y2,next[2]*z2])\n",
    "        tempdata = np.array([indata[i][0]*x2,indata[i][1]*y2,indata[i][2]*z2])\n",
    "        loss.append(mean_squared_error(next,tempdata))\n",
    "    x = np.linspace(0, 1000, 1000)\n",
    "    y = loss\n",
    "\n",
    "    plt.plot(x, y, 'o', color='black')\n",
    "    plt.title(\"Squared error per step\")\n",
    "    plt.savefig(\"Squared error per step.jpg\")\n",
    "    # print(\"MSE loss =\",loss/len(indata))\n",
    "    #     # print(next)\n",
    "        # loss += mean_squared_error(y_batch.detach().numpy(),next.detach().numpy())\n",
    "\n",
    "        # x.append(next[0]*x2)\n",
    "        # y.append(next[1]*y2)\n",
    "        # z.append(next[2]*z2)\n",
    "        # xold.append(outdata[i][0]*x2)\n",
    "        # yold.append(outdata[i][1]*y2)\n",
    "        # zold.append(outdata[i][2]*z2)"
   ]
  },
  {
   "cell_type": "code",
   "execution_count": null,
   "metadata": {
    "id": "QPflQCajVH1h"
   },
   "outputs": [],
   "source": [
    "SE(model,indata,data,x2,y2,z2)"
   ]
  },
  {
   "cell_type": "code",
   "execution_count": null,
   "metadata": {
    "id": "qTc-N2xVVKm1"
   },
   "outputs": [],
   "source": [
    "def new_input(model,x0,y0,z0,outdata,x2,y2,z2,steps):\n",
    "    start = torch.from_numpy(np.array([x0/x2,y0/y2,z0/z2],dtype = \"float32\"))\n",
    "    x ,y ,z = [x0/x2],[y0/y2],[z0/z2]\n",
    "    xold ,yold ,zold = [-2] , [0], [-1]\n",
    "    for i in range(steps): # loop thorugh batches        \n",
    "\n",
    "        next = model(start)\n",
    "        start = next\n",
    "        x.append(next[0]*x2)\n",
    "        y.append(next[1]*y2)\n",
    "        z.append(next[2]*z2)\n",
    "        xold.append(outdata[i][0]*x2)\n",
    "        yold.append(outdata[i][1]*y2)\n",
    "        zold.append(outdata[i][2]*z2)\n",
    "\n",
    "\n",
    "    ax = plt.axes(projection='3d')\n",
    "    ax.plot3D(x, y, z, 'red')\n",
    "    ax.plot3D(xold, yold, zold, 'blue')\n",
    "    ax.legend([\"Approximation\",\"Real data\"],loc = 'lower right')\n",
    "\n",
    "    plt.savefig(\"Steps\" + str(steps) + \".jpg\")"
   ]
  },
  {
   "cell_type": "code",
   "execution_count": null,
   "metadata": {
    "id": "giCX6KSOXmCD"
   },
   "outputs": [],
   "source": [
    "new_input(model,-1.9,0,-0.9,data,x2,y2,z2,200)"
   ]
  },
  {
   "cell_type": "code",
   "execution_count": 14,
   "metadata": {
    "colab": {
     "base_uri": "https://localhost:8080/",
     "height": 425
    },
    "id": "_TQzNW9MX2KN",
    "outputId": "8b716d35-53f8-499c-8cd6-e900ea905ec5"
   },
   "outputs": [
    {
     "ename": "FileNotFoundError",
     "evalue": "ignored",
     "output_type": "error",
     "traceback": [
      "\u001b[0;31m---------------------------------------------------------------------------\u001b[0m",
      "\u001b[0;31mFileNotFoundError\u001b[0m                         Traceback (most recent call last)",
      "\u001b[0;32m/usr/local/lib/python3.6/dist-packages/scipy/io/matlab/mio.py\u001b[0m in \u001b[0;36m_open_file\u001b[0;34m(file_like, appendmat, mode)\u001b[0m\n\u001b[1;32m     38\u001b[0m     \u001b[0;32mtry\u001b[0m\u001b[0;34m:\u001b[0m\u001b[0;34m\u001b[0m\u001b[0;34m\u001b[0m\u001b[0m\n\u001b[0;32m---> 39\u001b[0;31m         \u001b[0;32mreturn\u001b[0m \u001b[0mopen\u001b[0m\u001b[0;34m(\u001b[0m\u001b[0mfile_like\u001b[0m\u001b[0;34m,\u001b[0m \u001b[0mmode\u001b[0m\u001b[0;34m)\u001b[0m\u001b[0;34m,\u001b[0m \u001b[0;32mTrue\u001b[0m\u001b[0;34m\u001b[0m\u001b[0;34m\u001b[0m\u001b[0m\n\u001b[0m\u001b[1;32m     40\u001b[0m     \u001b[0;32mexcept\u001b[0m \u001b[0mIOError\u001b[0m\u001b[0;34m:\u001b[0m\u001b[0;34m\u001b[0m\u001b[0;34m\u001b[0m\u001b[0m\n",
      "\u001b[0;31mFileNotFoundError\u001b[0m: [Errno 2] No such file or directory: 'data_NN.mat'",
      "\nDuring handling of the above exception, another exception occurred:\n",
      "\u001b[0;31mFileNotFoundError\u001b[0m                         Traceback (most recent call last)",
      "\u001b[0;32m<ipython-input-14-63994351a008>\u001b[0m in \u001b[0;36m<module>\u001b[0;34m()\u001b[0m\n\u001b[1;32m      1\u001b[0m \u001b[0;32mimport\u001b[0m \u001b[0mscipy\u001b[0m\u001b[0;34m.\u001b[0m\u001b[0mio\u001b[0m \u001b[0;32mas\u001b[0m \u001b[0msio\u001b[0m\u001b[0;34m\u001b[0m\u001b[0;34m\u001b[0m\u001b[0m\n\u001b[1;32m      2\u001b[0m \u001b[0;34m\u001b[0m\u001b[0m\n\u001b[0;32m----> 3\u001b[0;31m \u001b[0mcontent\u001b[0m \u001b[0;34m=\u001b[0m \u001b[0msio\u001b[0m\u001b[0;34m.\u001b[0m\u001b[0mloadmat\u001b[0m\u001b[0;34m(\u001b[0m\u001b[0;34m'data_NN.mat'\u001b[0m\u001b[0;34m)\u001b[0m\u001b[0;34m\u001b[0m\u001b[0;34m\u001b[0m\u001b[0m\n\u001b[0m\u001b[1;32m      4\u001b[0m \u001b[0mprint\u001b[0m\u001b[0;34m(\u001b[0m\u001b[0mcontent\u001b[0m\u001b[0;34m)\u001b[0m\u001b[0;34m\u001b[0m\u001b[0;34m\u001b[0m\u001b[0m\n",
      "\u001b[0;32m/usr/local/lib/python3.6/dist-packages/scipy/io/matlab/mio.py\u001b[0m in \u001b[0;36mloadmat\u001b[0;34m(file_name, mdict, appendmat, **kwargs)\u001b[0m\n\u001b[1;32m    214\u001b[0m     \"\"\"\n\u001b[1;32m    215\u001b[0m     \u001b[0mvariable_names\u001b[0m \u001b[0;34m=\u001b[0m \u001b[0mkwargs\u001b[0m\u001b[0;34m.\u001b[0m\u001b[0mpop\u001b[0m\u001b[0;34m(\u001b[0m\u001b[0;34m'variable_names'\u001b[0m\u001b[0;34m,\u001b[0m \u001b[0;32mNone\u001b[0m\u001b[0;34m)\u001b[0m\u001b[0;34m\u001b[0m\u001b[0;34m\u001b[0m\u001b[0m\n\u001b[0;32m--> 216\u001b[0;31m     \u001b[0;32mwith\u001b[0m \u001b[0m_open_file_context\u001b[0m\u001b[0;34m(\u001b[0m\u001b[0mfile_name\u001b[0m\u001b[0;34m,\u001b[0m \u001b[0mappendmat\u001b[0m\u001b[0;34m)\u001b[0m \u001b[0;32mas\u001b[0m \u001b[0mf\u001b[0m\u001b[0;34m:\u001b[0m\u001b[0;34m\u001b[0m\u001b[0;34m\u001b[0m\u001b[0m\n\u001b[0m\u001b[1;32m    217\u001b[0m         \u001b[0mMR\u001b[0m\u001b[0;34m,\u001b[0m \u001b[0m_\u001b[0m \u001b[0;34m=\u001b[0m \u001b[0mmat_reader_factory\u001b[0m\u001b[0;34m(\u001b[0m\u001b[0mf\u001b[0m\u001b[0;34m,\u001b[0m \u001b[0;34m**\u001b[0m\u001b[0mkwargs\u001b[0m\u001b[0;34m)\u001b[0m\u001b[0;34m\u001b[0m\u001b[0;34m\u001b[0m\u001b[0m\n\u001b[1;32m    218\u001b[0m         \u001b[0mmatfile_dict\u001b[0m \u001b[0;34m=\u001b[0m \u001b[0mMR\u001b[0m\u001b[0;34m.\u001b[0m\u001b[0mget_variables\u001b[0m\u001b[0;34m(\u001b[0m\u001b[0mvariable_names\u001b[0m\u001b[0;34m)\u001b[0m\u001b[0;34m\u001b[0m\u001b[0;34m\u001b[0m\u001b[0m\n",
      "\u001b[0;32m/usr/lib/python3.6/contextlib.py\u001b[0m in \u001b[0;36m__enter__\u001b[0;34m(self)\u001b[0m\n\u001b[1;32m     79\u001b[0m     \u001b[0;32mdef\u001b[0m \u001b[0m__enter__\u001b[0m\u001b[0;34m(\u001b[0m\u001b[0mself\u001b[0m\u001b[0;34m)\u001b[0m\u001b[0;34m:\u001b[0m\u001b[0;34m\u001b[0m\u001b[0;34m\u001b[0m\u001b[0m\n\u001b[1;32m     80\u001b[0m         \u001b[0;32mtry\u001b[0m\u001b[0;34m:\u001b[0m\u001b[0;34m\u001b[0m\u001b[0;34m\u001b[0m\u001b[0m\n\u001b[0;32m---> 81\u001b[0;31m             \u001b[0;32mreturn\u001b[0m \u001b[0mnext\u001b[0m\u001b[0;34m(\u001b[0m\u001b[0mself\u001b[0m\u001b[0;34m.\u001b[0m\u001b[0mgen\u001b[0m\u001b[0;34m)\u001b[0m\u001b[0;34m\u001b[0m\u001b[0;34m\u001b[0m\u001b[0m\n\u001b[0m\u001b[1;32m     82\u001b[0m         \u001b[0;32mexcept\u001b[0m \u001b[0mStopIteration\u001b[0m\u001b[0;34m:\u001b[0m\u001b[0;34m\u001b[0m\u001b[0;34m\u001b[0m\u001b[0m\n\u001b[1;32m     83\u001b[0m             \u001b[0;32mraise\u001b[0m \u001b[0mRuntimeError\u001b[0m\u001b[0;34m(\u001b[0m\u001b[0;34m\"generator didn't yield\"\u001b[0m\u001b[0;34m)\u001b[0m \u001b[0;32mfrom\u001b[0m \u001b[0;32mNone\u001b[0m\u001b[0;34m\u001b[0m\u001b[0;34m\u001b[0m\u001b[0m\n",
      "\u001b[0;32m/usr/local/lib/python3.6/dist-packages/scipy/io/matlab/mio.py\u001b[0m in \u001b[0;36m_open_file_context\u001b[0;34m(file_like, appendmat, mode)\u001b[0m\n\u001b[1;32m     17\u001b[0m \u001b[0;34m@\u001b[0m\u001b[0mcontextmanager\u001b[0m\u001b[0;34m\u001b[0m\u001b[0;34m\u001b[0m\u001b[0m\n\u001b[1;32m     18\u001b[0m \u001b[0;32mdef\u001b[0m \u001b[0m_open_file_context\u001b[0m\u001b[0;34m(\u001b[0m\u001b[0mfile_like\u001b[0m\u001b[0;34m,\u001b[0m \u001b[0mappendmat\u001b[0m\u001b[0;34m,\u001b[0m \u001b[0mmode\u001b[0m\u001b[0;34m=\u001b[0m\u001b[0;34m'rb'\u001b[0m\u001b[0;34m)\u001b[0m\u001b[0;34m:\u001b[0m\u001b[0;34m\u001b[0m\u001b[0;34m\u001b[0m\u001b[0m\n\u001b[0;32m---> 19\u001b[0;31m     \u001b[0mf\u001b[0m\u001b[0;34m,\u001b[0m \u001b[0mopened\u001b[0m \u001b[0;34m=\u001b[0m \u001b[0m_open_file\u001b[0m\u001b[0;34m(\u001b[0m\u001b[0mfile_like\u001b[0m\u001b[0;34m,\u001b[0m \u001b[0mappendmat\u001b[0m\u001b[0;34m,\u001b[0m \u001b[0mmode\u001b[0m\u001b[0;34m)\u001b[0m\u001b[0;34m\u001b[0m\u001b[0;34m\u001b[0m\u001b[0m\n\u001b[0m\u001b[1;32m     20\u001b[0m     \u001b[0;32myield\u001b[0m \u001b[0mf\u001b[0m\u001b[0;34m\u001b[0m\u001b[0;34m\u001b[0m\u001b[0m\n\u001b[1;32m     21\u001b[0m     \u001b[0;32mif\u001b[0m \u001b[0mopened\u001b[0m\u001b[0;34m:\u001b[0m\u001b[0;34m\u001b[0m\u001b[0;34m\u001b[0m\u001b[0m\n",
      "\u001b[0;32m/usr/local/lib/python3.6/dist-packages/scipy/io/matlab/mio.py\u001b[0m in \u001b[0;36m_open_file\u001b[0;34m(file_like, appendmat, mode)\u001b[0m\n\u001b[1;32m     43\u001b[0m             \u001b[0;32mif\u001b[0m \u001b[0mappendmat\u001b[0m \u001b[0;32mand\u001b[0m \u001b[0;32mnot\u001b[0m \u001b[0mfile_like\u001b[0m\u001b[0;34m.\u001b[0m\u001b[0mendswith\u001b[0m\u001b[0;34m(\u001b[0m\u001b[0;34m'.mat'\u001b[0m\u001b[0;34m)\u001b[0m\u001b[0;34m:\u001b[0m\u001b[0;34m\u001b[0m\u001b[0;34m\u001b[0m\u001b[0m\n\u001b[1;32m     44\u001b[0m                 \u001b[0mfile_like\u001b[0m \u001b[0;34m+=\u001b[0m \u001b[0;34m'.mat'\u001b[0m\u001b[0;34m\u001b[0m\u001b[0;34m\u001b[0m\u001b[0m\n\u001b[0;32m---> 45\u001b[0;31m             \u001b[0;32mreturn\u001b[0m \u001b[0mopen\u001b[0m\u001b[0;34m(\u001b[0m\u001b[0mfile_like\u001b[0m\u001b[0;34m,\u001b[0m \u001b[0mmode\u001b[0m\u001b[0;34m)\u001b[0m\u001b[0;34m,\u001b[0m \u001b[0;32mTrue\u001b[0m\u001b[0;34m\u001b[0m\u001b[0;34m\u001b[0m\u001b[0m\n\u001b[0m\u001b[1;32m     46\u001b[0m         \u001b[0;32melse\u001b[0m\u001b[0;34m:\u001b[0m\u001b[0;34m\u001b[0m\u001b[0;34m\u001b[0m\u001b[0m\n\u001b[1;32m     47\u001b[0m             \u001b[0;32mraise\u001b[0m \u001b[0mIOError\u001b[0m\u001b[0;34m(\u001b[0m\u001b[0;34m'Reader needs file name or open file-like object'\u001b[0m\u001b[0;34m)\u001b[0m\u001b[0;34m\u001b[0m\u001b[0;34m\u001b[0m\u001b[0m\n",
      "\u001b[0;31mFileNotFoundError\u001b[0m: [Errno 2] No such file or directory: 'data_NN.mat'"
     ]
    }
   ],
   "source": [
    "import scipy.io as sio\n",
    "\n",
    "content = sio.loadmat('data_NN.mat')\n",
    "print(content)"
   ]
  },
  {
   "cell_type": "code",
   "execution_count": 15,
   "metadata": {
    "id": "anVhdiQruqMD"
   },
   "outputs": [],
   "source": [
    "def return_results(model,x0,y0,z0,outdata,x2,y2,z2,steps):\n",
    "    start = torch.from_numpy(np.array([x0/x2,y0/y2,z0/z2],dtype = \"float32\"))\n",
    "    answer = []\n",
    "    for i in range(steps): # loop thorugh batches        \n",
    "        next = model(start)\n",
    "        answer.append([next[0],next[1],next[2]])\n",
    "        start = next\n",
    "        # x.append(next[0]*x2)\n",
    "        # y.append(next[1]*y2)\n",
    "        # z.append(next[2]*z2)\n",
    "        # xold.append(outdata[i][0]*x2)\n",
    "        # yold.append(outdata[i][1]*y2)\n",
    "        # zold.append(outdata[i][2]*z2)\n",
    "    return answer"
   ]
  },
  {
   "cell_type": "code",
   "execution_count": 20,
   "metadata": {
    "id": "WKomC6zBwroh"
   },
   "outputs": [],
   "source": [
    "expectations = return_results(model,-1.9,0,-.9,data,x2,y2,z2,200)\n",
    "expectations = np.array(expectations,dtype = 'float32')\n",
    "sio.savemat('answers_NN.mat',{\"predictions\":np.transpose(expectations)})\n"
   ]
  },
  {
   "cell_type": "code",
   "execution_count": 21,
   "metadata": {
    "colab": {
     "base_uri": "https://localhost:8080/"
    },
    "id": "ppGw6RZKw0kx",
    "outputId": "ebe4b1fb-3d9f-4dfd-c0db-1402db5ccf0a"
   },
   "outputs": [
    {
     "name": "stdout",
     "output_type": "stream",
     "text": [
      "{'__header__': b'MATLAB 5.0 MAT-file, Platform: PCWIN64, Created on: Sat Oct 17 08:20:15 2020', '__version__': '1.0', '__globals__': [], 'x_train': array([[-2.00000000e+00, -2.03414710e+00, -2.06940196e+00, ...,\n",
      "        -2.90300016e+00, -2.87077889e+00, -2.84330346e+00],\n",
      "       [ 0.00000000e+00,  8.56535925e-03,  1.61051480e-02, ...,\n",
      "        -2.04904126e+00, -1.97749504e+00, -1.90274011e+00],\n",
      "       [-1.00000000e+00, -1.02080734e+00, -1.04272648e+00, ...,\n",
      "        -7.48130747e+01, -7.49060485e+01, -7.50001478e+01]])}\n",
      "{'__header__': b'MATLAB 5.0 MAT-file Platform: posix, Created on: Sat Nov 21 14:51:55 2020', '__version__': '1.0', '__globals__': [], 'predictions': array([[ 4.40551341e-01,  4.55062151e-01,  4.69757497e-01,\n",
      "         4.83852446e-01,  4.95034218e-01,  5.06376624e-01,\n",
      "         5.17881095e-01,  5.29548943e-01,  5.41381538e-01,\n",
      "         5.53380191e-01,  5.65546393e-01,  5.77881455e-01,\n",
      "         5.90386808e-01,  6.03063822e-01,  6.15913868e-01,\n",
      "         6.28938317e-01,  6.42138660e-01,  6.55516088e-01,\n",
      "         6.69060946e-01,  6.82475805e-01,  6.95740759e-01,\n",
      "         7.08836079e-01,  7.21742392e-01,  7.34440744e-01,\n",
      "         7.46912479e-01,  7.59139478e-01,  7.71103978e-01,\n",
      "         7.82788754e-01,  7.94176877e-01,  8.05252194e-01,\n",
      "         8.15998852e-01,  8.26401830e-01,  8.36446524e-01,\n",
      "         8.46118867e-01,  8.55405450e-01,  8.64293635e-01,\n",
      "         8.72771382e-01,  8.80827308e-01,  8.88450623e-01,\n",
      "         8.95631552e-01,  9.02360678e-01,  9.08629477e-01,\n",
      "         9.14430082e-01,  9.19755459e-01,  9.24599528e-01,\n",
      "         9.28956568e-01,  9.32822049e-01,  9.36191678e-01,\n",
      "         9.39062595e-01,  9.41432238e-01,  9.43298936e-01,\n",
      "         9.44661915e-01,  9.45521057e-01,  9.45877194e-01,\n",
      "         9.45731759e-01,  9.45087016e-01,  9.43946004e-01,\n",
      "         9.42312479e-01,  9.40190911e-01,  9.37586784e-01,\n",
      "         9.34505880e-01,  9.30954993e-01,  9.26941574e-01,\n",
      "         9.22473729e-01,  9.17560279e-01,  9.12210643e-01,\n",
      "         9.06435013e-01,  9.00243938e-01,  8.93648803e-01,\n",
      "         8.86661589e-01,  8.79294753e-01,  8.71561110e-01,\n",
      "         8.63474369e-01,  8.55048537e-01,  8.46298218e-01,\n",
      "         8.37238252e-01,  8.27884018e-01,  8.18251371e-01,\n",
      "         8.08356464e-01,  7.98215985e-01,  7.87846565e-01,\n",
      "         7.77265370e-01,  7.66489983e-01,  7.55537868e-01,\n",
      "         7.44426966e-01,  7.33175397e-01,  7.21801221e-01,\n",
      "         7.10322857e-01,  6.98758602e-01,  6.87127173e-01,\n",
      "         6.75446987e-01,  6.63736641e-01,  6.52014554e-01,\n",
      "         6.40299320e-01,  6.28609359e-01,  6.16963029e-01,\n",
      "         6.05378449e-01,  5.93873560e-01,  5.82466304e-01,\n",
      "         5.71174264e-01,  5.60014844e-01,  5.49005210e-01,\n",
      "         5.38162112e-01,  5.27502179e-01,  5.17041504e-01,\n",
      "         5.06795943e-01,  4.96780932e-01,  4.87011433e-01,\n",
      "         4.77502048e-01,  4.68267024e-01,  4.59319890e-01,\n",
      "         4.50673819e-01,  4.42341566e-01,  4.34335232e-01,\n",
      "         4.26666439e-01,  4.19346094e-01,  4.12384748e-01,\n",
      "         4.05792236e-01,  3.99577737e-01,  3.93749893e-01,\n",
      "         3.88316840e-01,  3.83285880e-01,  3.78663778e-01,\n",
      "         3.74456525e-01,  3.70669544e-01,  3.67307603e-01,\n",
      "         3.64374816e-01,  3.61874491e-01,  3.59809339e-01,\n",
      "         3.58181357e-01,  3.56991887e-01,  3.56241703e-01,\n",
      "         3.55930746e-01,  3.56058240e-01,  3.56622815e-01,\n",
      "         3.57622504e-01,  3.59054565e-01,  3.60915631e-01,\n",
      "         3.63201618e-01,  3.65907907e-01,  3.69029164e-01,\n",
      "         3.72559488e-01,  3.76492381e-01,  3.80820662e-01,\n",
      "         3.85536551e-01,  3.90631855e-01,  3.96097600e-01,\n",
      "         4.01924491e-01,  4.08102602e-01,  4.14621472e-01,\n",
      "         4.21470165e-01,  4.28637326e-01,  4.36111033e-01,\n",
      "         4.43879068e-01,  4.51928675e-01,  4.60246801e-01,\n",
      "         4.68819976e-01,  4.77634430e-01,  4.86676037e-01,\n",
      "         4.95930314e-01,  5.05382597e-01,  5.15017807e-01,\n",
      "         5.24820864e-01,  5.34776330e-01,  5.44868529e-01,\n",
      "         5.55081844e-01,  5.65400302e-01,  5.75807989e-01,\n",
      "         5.86288750e-01,  5.96826494e-01,  6.07405066e-01,\n",
      "         6.18008316e-01,  6.28620088e-01,  6.39224231e-01,\n",
      "         6.49804652e-01,  6.60345435e-01,  6.70830846e-01,\n",
      "         6.81245089e-01,  6.91572607e-01,  7.01798141e-01,\n",
      "         7.11906433e-01,  7.21882641e-01,  7.31712162e-01,\n",
      "         7.41380632e-01,  7.50873864e-01,  7.60178268e-01,\n",
      "         7.69280374e-01,  7.78167069e-01,  7.86825716e-01,\n",
      "         7.95243979e-01,  8.03410172e-01,  8.11312735e-01,\n",
      "         8.18940639e-01,  8.26283395e-01,  8.33330989e-01,\n",
      "         8.40073824e-01,  8.46502781e-01,  8.52609515e-01,\n",
      "         8.58385801e-01,  8.63824368e-01],\n",
      "       [-9.14024562e-03, -1.73980147e-02, -2.47635096e-02,\n",
      "        -2.95985118e-02, -2.71406248e-02, -2.45725438e-02,\n",
      "        -2.18926370e-02, -1.90993100e-02, -1.61909312e-02,\n",
      "        -1.31658539e-02, -1.00224018e-02, -6.75889850e-03,\n",
      "        -3.37369740e-03,  1.34944916e-04,  3.76874208e-03,\n",
      "         7.52942264e-03,  1.14187002e-02,  1.54383481e-02,\n",
      "         1.96141154e-02,  2.45848000e-02,  3.03400457e-02,\n",
      "         3.68683338e-02,  4.41569537e-02,  5.21920919e-02,\n",
      "         6.09588176e-02,  7.04411417e-02,  8.06219727e-02,\n",
      "         9.14832652e-02,  1.03005946e-01,  1.15169972e-01,\n",
      "         1.27954394e-01,  1.41337425e-01,  1.55296326e-01,\n",
      "         1.69807643e-01,  1.84847027e-01,  2.00389534e-01,\n",
      "         2.16409475e-01,  2.32880443e-01,  2.49775499e-01,\n",
      "         2.67067164e-01,  2.84727365e-01,  3.02727580e-01,\n",
      "         3.21038932e-01,  3.39632004e-01,  3.58477205e-01,\n",
      "         3.77544492e-01,  3.96803826e-01,  4.16224808e-01,\n",
      "         4.35776800e-01,  4.55429345e-01,  4.75151628e-01,\n",
      "         4.94913012e-01,  5.14682889e-01,  5.34430742e-01,\n",
      "         5.54126024e-01,  5.73738694e-01,  5.93238711e-01,\n",
      "         6.12596273e-01,  6.31782174e-01,  6.50767207e-01,\n",
      "         6.69523001e-01,  6.88021183e-01,  7.06234097e-01,\n",
      "         7.24134803e-01,  7.41696715e-01,  7.58893847e-01,\n",
      "         7.75700808e-01,  7.92093158e-01,  8.08046937e-01,\n",
      "         8.23539138e-01,  8.38547349e-01,  8.53050232e-01,\n",
      "         8.67026925e-01,  8.80457878e-01,  8.93324137e-01,\n",
      "         9.05607820e-01,  9.17291999e-01,  9.28360939e-01,\n",
      "         9.38799381e-01,  9.48593616e-01,  9.57730651e-01,\n",
      "         9.66198683e-01,  9.73986983e-01,  9.81085896e-01,\n",
      "         9.87486959e-01,  9.93182659e-01,  9.98166800e-01,\n",
      "         1.00243402e+00,  1.00598025e+00,  1.00880265e+00,\n",
      "         1.01089919e+00,  1.01226938e+00,  1.01291358e+00,\n",
      "         1.01283336e+00,  1.01203132e+00,  1.01051152e+00,\n",
      "         1.00827861e+00,  1.00533855e+00,  1.00169837e+00,\n",
      "         9.97366190e-01,  9.92351174e-01,  9.86663342e-01,\n",
      "         9.80314016e-01,  9.73315239e-01,  9.65680242e-01,\n",
      "         9.57422972e-01,  9.48558569e-01,  9.39102650e-01,\n",
      "         9.29072142e-01,  9.18484449e-01,  9.07357931e-01,\n",
      "         8.95711780e-01,  8.83565784e-01,  8.70940447e-01,\n",
      "         8.57857108e-01,  8.44337702e-01,  8.30404520e-01,\n",
      "         8.16080689e-01,  8.01389694e-01,  7.86355615e-01,\n",
      "         7.71002889e-01,  7.55356550e-01,  7.39441752e-01,\n",
      "         7.23284006e-01,  7.06909418e-01,  6.90343976e-01,\n",
      "         6.73613906e-01,  6.56745911e-01,  6.39766574e-01,\n",
      "         6.22702479e-01,  6.05580449e-01,  5.88427305e-01,\n",
      "         5.71269631e-01,  5.54134011e-01,  5.37047029e-01,\n",
      "         5.20034909e-01,  5.03123760e-01,  4.86339539e-01,\n",
      "         4.69707817e-01,  4.53253776e-01,  4.37002391e-01,\n",
      "         4.20978159e-01,  4.05205041e-01,  3.89706761e-01,\n",
      "         3.74506265e-01,  3.59626204e-01,  3.45088512e-01,\n",
      "         3.30914557e-01,  3.17125142e-01,  3.03740233e-01,\n",
      "         2.90779263e-01,  2.78260827e-01,  2.66202897e-01,\n",
      "         2.54622579e-01,  2.43536204e-01,  2.32959270e-01,\n",
      "         2.22906411e-01,  2.13391513e-01,  2.04427451e-01,\n",
      "         1.96026295e-01,  1.88199162e-01,  1.80956185e-01,\n",
      "         1.74306661e-01,  1.68258995e-01,  1.62820399e-01,\n",
      "         1.57997340e-01,  1.53795213e-01,  1.50218397e-01,\n",
      "         1.47270411e-01,  1.44953668e-01,  1.43269658e-01,\n",
      "         1.42218918e-01,  1.41800940e-01,  1.42014265e-01,\n",
      "         1.42856419e-01,  1.44324034e-01,  1.46412820e-01,\n",
      "         1.49117410e-01,  1.52431548e-01,  1.56348139e-01,\n",
      "         1.60859078e-01,  1.65955454e-01,  1.71627432e-01,\n",
      "         1.77864313e-01,  1.84654534e-01,  1.91985846e-01,\n",
      "         1.99845076e-01,  2.08218336e-01,  2.17090935e-01,\n",
      "         2.26447493e-01,  2.36272067e-01,  2.46547818e-01,\n",
      "         2.57257313e-01,  2.68382698e-01,  2.79905319e-01,\n",
      "         2.91806132e-01,  3.04065466e-01,  3.16663176e-01,\n",
      "         3.29578698e-01,  3.42791021e-01],\n",
      "       [ 1.27567388e-02,  1.35142691e-02,  1.42727569e-02,\n",
      "         1.55859403e-02,  1.90891959e-02,  2.24220417e-02,\n",
      "         2.55810283e-02,  2.85627283e-02,  3.13636847e-02,\n",
      "         3.39803286e-02,  3.64090912e-02,  3.86463515e-02,\n",
      "         4.06885110e-02,  4.25318442e-02,  4.41726260e-02,\n",
      "         4.56071161e-02,  4.68314998e-02,  4.78419475e-02,\n",
      "         4.86427210e-02,  4.94465195e-02,  5.02534769e-02,\n",
      "         5.10636531e-02,  5.18772565e-02,  5.26943319e-02,\n",
      "         5.35149984e-02,  5.43393455e-02,  5.51674180e-02,\n",
      "         5.59993796e-02,  5.68352453e-02,  5.76751195e-02,\n",
      "         5.85190468e-02,  5.93670867e-02,  6.02192841e-02,\n",
      "         6.10756837e-02,  6.19363450e-02,  6.28013015e-02,\n",
      "         6.36705905e-02,  6.45441860e-02,  6.54221773e-02,\n",
      "         6.63044602e-02,  6.71910793e-02,  6.80820495e-02,\n",
      "         6.89773858e-02,  6.98770285e-02,  7.07809180e-02,\n",
      "         7.16890693e-02,  7.26014227e-02,  7.35179782e-02,\n",
      "         7.44386315e-02,  7.53633082e-02,  7.62920082e-02,\n",
      "         7.72246420e-02,  7.81611353e-02,  7.91013539e-02,\n",
      "         8.00452977e-02,  8.09928179e-02,  8.19438547e-02,\n",
      "         8.28982741e-02,  8.38560462e-02,  8.48169625e-02,\n",
      "         8.57809782e-02,  8.67479891e-02,  8.77178162e-02,\n",
      "         8.86903703e-02,  8.96655023e-02,  9.06430632e-02,\n",
      "         9.16229188e-02,  9.26049799e-02,  9.35890973e-02,\n",
      "         9.45750624e-02,  9.55627859e-02,  9.65521336e-02,\n",
      "         9.75429416e-02,  9.85350162e-02,  9.95282531e-02,\n",
      "         1.00522503e-01,  1.01517618e-01,  1.02513358e-01,\n",
      "         1.03509709e-01,  1.04506388e-01,  1.05503306e-01,\n",
      "         1.06500283e-01,  1.07497126e-01,  1.08493716e-01,\n",
      "         1.09489948e-01,  1.10485643e-01,  1.11480668e-01,\n",
      "         1.12474844e-01,  1.13468096e-01,  1.14460185e-01,\n",
      "         1.15450978e-01,  1.16440400e-01,  1.17428303e-01,\n",
      "         1.18414506e-01,  1.19398922e-01,  1.20381415e-01,\n",
      "         1.21361852e-01,  1.22340158e-01,  1.23316213e-01,\n",
      "         1.24289870e-01,  1.25261039e-01,  1.26229614e-01,\n",
      "         1.27195537e-01,  1.28158629e-01,  1.29118875e-01,\n",
      "         1.30076185e-01,  1.31030470e-01,  1.31981671e-01,\n",
      "         1.32929713e-01,  1.33874521e-01,  1.34816080e-01,\n",
      "         1.35754317e-01,  1.36689156e-01,  1.37620583e-01,\n",
      "         1.38548583e-01,  1.39473110e-01,  1.40394151e-01,\n",
      "         1.41311690e-01,  1.42225727e-01,  1.43136248e-01,\n",
      "         1.44043237e-01,  1.44946724e-01,  1.45846680e-01,\n",
      "         1.46743163e-01,  1.47636205e-01,  1.48525819e-01,\n",
      "         1.49412021e-01,  1.50294870e-01,  1.51174396e-01,\n",
      "         1.52050674e-01,  1.52923778e-01,  1.53793707e-01,\n",
      "         1.54660553e-01,  1.55524418e-01,  1.56385317e-01,\n",
      "         1.57243356e-01,  1.58098638e-01,  1.58951208e-01,\n",
      "         1.59801215e-01,  1.60648704e-01,  1.61493808e-01,\n",
      "         1.62336603e-01,  1.63177207e-01,  1.64015725e-01,\n",
      "         1.64852291e-01,  1.65687010e-01,  1.66519970e-01,\n",
      "         1.67351365e-01,  1.68181241e-01,  1.69009730e-01,\n",
      "         1.69836983e-01,  1.70663133e-01,  1.71488330e-01,\n",
      "         1.72312647e-01,  1.73136294e-01,  1.73959345e-01,\n",
      "         1.74781948e-01,  1.75604224e-01,  1.76426366e-01,\n",
      "         1.77248463e-01,  1.78070620e-01,  1.78893059e-01,\n",
      "         1.79715827e-01,  1.80539057e-01,  1.81362972e-01,\n",
      "         1.82187617e-01,  1.83013156e-01,  1.83839723e-01,\n",
      "         1.84667394e-01,  1.85496375e-01,  1.86326757e-01,\n",
      "         1.87158614e-01,  1.87992096e-01,  1.88827291e-01,\n",
      "         1.89664349e-01,  1.90503389e-01,  1.91344440e-01,\n",
      "         1.92187697e-01,  1.93033218e-01,  1.93881109e-01,\n",
      "         1.94731444e-01,  1.95584312e-01,  1.96439803e-01,\n",
      "         1.97297961e-01,  1.98158920e-01,  1.99022725e-01,\n",
      "         1.99889451e-01,  2.00759128e-01,  2.01631829e-01,\n",
      "         2.02507645e-01,  2.03386575e-01,  2.04268679e-01,\n",
      "         2.05154032e-01,  2.06042603e-01,  2.06934467e-01,\n",
      "         2.07829654e-01,  2.08728120e-01,  2.09629938e-01,\n",
      "         2.10535094e-01,  2.11443648e-01]], dtype=float32)}\n"
     ]
    }
   ],
   "source": [
    "content = sio.loadmat('data_NN.mat')\n",
    "print(content)\n",
    "\n",
    "content = sio.loadmat('answers_NN.mat')\n",
    "print(content)"
   ]
  },
  {
   "cell_type": "code",
   "execution_count": 41,
   "metadata": {
    "colab": {
     "base_uri": "https://localhost:8080/"
    },
    "id": "Po3oS5ABw2gU",
    "outputId": "8b4e3a46-8263-4cc2-8c8f-c9ef95637228"
   },
   "outputs": [
    {
     "name": "stdout",
     "output_type": "stream",
     "text": [
      "3\n"
     ]
    }
   ],
   "source": []
  },
  {
   "cell_type": "code",
   "execution_count": null,
   "metadata": {
    "id": "K8DGzsPuw5N2"
   },
   "outputs": [],
   "source": []
  }
 ],
 "metadata": {
  "accelerator": "GPU",
  "colab": {
   "collapsed_sections": [],
   "name": "Neurofuzzy1.ipynb",
   "provenance": []
  },
  "kernelspec": {
   "display_name": "Python 3",
   "language": "python",
   "name": "python3"
  },
  "language_info": {
   "codemirror_mode": {
    "name": "ipython",
    "version": 3
   },
   "file_extension": ".py",
   "mimetype": "text/x-python",
   "name": "python",
   "nbconvert_exporter": "python",
   "pygments_lexer": "ipython3",
   "version": "3.7.6"
  }
 },
 "nbformat": 4,
 "nbformat_minor": 1
}
